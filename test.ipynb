{
 "cells": [
  {
   "cell_type": "code",
   "execution_count": 1,
   "id": "8bd931b6",
   "metadata": {},
   "outputs": [
    {
     "name": "stdout",
     "output_type": "stream",
     "text": [
      "----- standard request -----\n",
      "十字花科植物是一类广泛分布的植物类群，其典型特征为十字形花冠（4片花瓣呈十字排列）、四强雄蕊（6枚雄蕊，4长2短），果实多为角果（长角果或短角果）。以下是常见的十字花科植物，按用途分类整理：\n",
      "\n",
      "\n",
      "### **一、蔬菜类（最常见，广泛栽培食用）**  \n",
      "1. **芸薹属（Brassica）**  \n",
      "   - **白菜类**：大白菜（结球白菜）、小白菜（青菜、油菜，北方“油菜”多为此类，南方称“小青菜”）、菜心（菜薹）、塌棵菜（乌塌菜，叶片塌地生长）。  \n",
      "   - **甘蓝类**：卷心菜（结球甘蓝、圆白菜）、西兰花（青花菜，花球绿色）、花椰菜（菜花，花球白色）、羽衣甘蓝（叶片皱缩，可观赏或食用）、芥蓝（茎秆粗壮，嫩叶和花薹可食）。  \n",
      "   - **芥菜类**：芥菜（叶片辛辣，可腌制成咸菜）、榨菜（茎用芥菜，膨大茎加工成榨菜）、雪里蕻（叶用芥菜，腌制成雪菜）、大头菜（芜菁，块根可食，又称“蔓菁”）。  \n",
      "\n",
      "2. **萝卜属（Raphanus）**  \n",
      "   - **萝卜**：白萝卜、青萝卜、红萝卜（心里美）、樱桃萝卜（小型品种）等，肉质根可生食或熟食。  \n",
      "\n",
      "3. **荠属（Capsella）**  \n",
      "   - **荠菜**：常见野菜，嫩叶可做馅、煮汤，春季田间地头多见，种子可榨油。  \n",
      "\n",
      "\n",
      "### **二、观赏花卉类（花色丰富，用于园艺装饰）**  \n",
      "1. **紫罗兰属（Matthiola）**  \n",
      "   - **紫罗兰**：花色有紫、白、粉等，香气浓郁，常用于切花或庭院种植。  \n",
      "\n",
      "2. **诸葛菜属（Orychophragmus）**  \n",
      "   - **二月兰（诸葛菜）**：春季开蓝紫色花，耐寒耐阴，常见于公园、路边，是优良的地被植物。  \n",
      "\n",
      "3. **桂竹香属（Cheiranthus）**  \n",
      "   - **桂竹香**：花色橙黄或黄褐色，花期春季，耐寒，适合花坛种植。  \n",
      "\n",
      "4. **香雪球属（Lobularia）**  \n",
      "   - **香雪球**：匍匐生长，开白色或淡紫色小花，香气似蜜，常用于盆栽或花境边缘。  \n",
      "\n",
      "5. **羽衣甘蓝（观赏品种）**：叶片色彩丰富（红、紫、绿、黄等），冬季不枯萎，常用于园林绿化。  \n",
      "\n",
      "\n",
      "### **三、野生/药用/杂草类（部分可药用或作野菜，部分为田间杂草）**  \n",
      "1. **独行菜属（Lepidium）**  \n",
      "   - **独行菜**：常见田间杂草，嫩叶可作野菜，种子入药（称“葶苈子”，有止咳平喘功效）。  \n",
      "\n",
      "2. **播娘蒿属（Descurainia）**  \n",
      "   - **播娘蒿**：麦田常见杂草，种子也作“葶苈子”入药。  \n",
      "\n",
      "3. **碎米荠属（Cardamine）**  \n",
      "   - **碎米荠**：多年生草本，嫩叶可食，部分种类（如弯曲碎米荠）可药用。  \n",
      "\n",
      "4. **菥蓂属（Thlaspi）**  \n",
      "   - **菥蓂（xī mì）**：全草可入药，种子可榨油，嫩叶可作野菜。  \n",
      "\n",
      "\n",
      "### **注意：易混淆的非十字花科植物**  \n",
      "- 胡萝卜（伞形科）、菠菜（藜科）、芹菜（伞形科）、香菜（伞形科）等，虽常与十字花科蔬菜一同食用，但不属于十字花科，需注意区分。\n",
      "\n",
      "\n",
      "十字花科植物不仅是人类重要的食物来源（提供维生素、膳食纤维等），部分种类还具有观赏、药用价值，在生态和经济上均有重要意义。\n"
     ]
    }
   ],
   "source": [
    "from openai import OpenAI\n",
    "import os\n",
    "\n",
    "client = OpenAI(\n",
    "    # 替换为您需要调用的模型服务Base Url\n",
    "    base_url=\"https://ark.cn-beijing.volces.com/api/v3/\",\n",
    "    # 环境变量中配置您的API Key\n",
    "    api_key='2c2004b5-17f4-4477-89db-696f37baf8b4'\n",
    ")\n",
    "\n",
    "print(\"----- standard request -----\")\n",
    "completion = client.chat.completions.create(\n",
    "    model=\"doubao-seed-1-6-250615\",\n",
    "    messages = [\n",
    "        {\"role\": \"system\", \"content\": \"你是豆包，是由字节跳动开发的 AI 人工智能助手\"},\n",
    "        {\"role\": \"user\", \"content\": \"常见的十字花科植物有哪些？\"},\n",
    "    ],\n",
    ")\n",
    "print(completion.choices[0].message.content)"
   ]
  },
  {
   "cell_type": "code",
   "execution_count": null,
   "id": "73c63c30",
   "metadata": {},
   "outputs": [],
   "source": []
  }
 ],
 "metadata": {
  "kernelspec": {
   "display_name": "prdagent",
   "language": "python",
   "name": "python3"
  },
  "language_info": {
   "codemirror_mode": {
    "name": "ipython",
    "version": 3
   },
   "file_extension": ".py",
   "mimetype": "text/x-python",
   "name": "python",
   "nbconvert_exporter": "python",
   "pygments_lexer": "ipython3",
   "version": "3.10.18"
  }
 },
 "nbformat": 4,
 "nbformat_minor": 5
}
